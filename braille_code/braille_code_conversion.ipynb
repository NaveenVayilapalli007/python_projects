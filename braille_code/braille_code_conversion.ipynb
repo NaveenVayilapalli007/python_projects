{
 "cells": [
  {
   "cell_type": "code",
   "execution_count": 0,
   "metadata": {
    "application/vnd.databricks.v1+cell": {
     "cellMetadata": {
      "byteLimit": 2048000,
      "rowLimit": 10000
     },
     "inputWidgets": {},
     "nuid": "34ebbfdf-8c6b-4928-83fb-7bc4480f57d1",
     "showTitle": false,
     "tableResultSettingsMap": {},
     "title": ""
    }
   },
   "outputs": [
    {
     "output_type": "display_data",
     "data": {
      "text/plain": [
       "b for braille, t for text, q to quit:  b"
      ]
     },
     "metadata": {},
     "output_type": "display_data"
    },
    {
     "output_type": "display_data",
     "data": {
      "text/plain": [
       "Enter text:  naveen vayilapalli"
      ]
     },
     "metadata": {},
     "output_type": "display_data"
    },
    {
     "output_type": "stream",
     "name": "stdout",
     "output_type": "stream",
     "text": [
      "Braille: ⠝⠁⠧⠑⠑⠝ ⠧⠁⠽⠊⠇⠁⠏⠁⠇⠇⠊\n"
     ]
    },
    {
     "output_type": "display_data",
     "data": {
      "text/plain": [
       "b for braille, t for text, q to quit:  t"
      ]
     },
     "metadata": {},
     "output_type": "display_data"
    },
    {
     "output_type": "display_data",
     "data": {
      "text/plain": [
       "Enter braille:  ⠝⠁⠧⠑⠑⠝ ⠧⠁⠽⠊⠇⠁⠏⠁⠇⠇⠊"
      ]
     },
     "metadata": {},
     "output_type": "display_data"
    },
    {
     "output_type": "stream",
     "name": "stdout",
     "output_type": "stream",
     "text": [
      "Text: naveen vayilapalli\n"
     ]
    },
    {
     "output_type": "display_data",
     "data": {
      "text/plain": [
       "b for braille, t for text, q to quit:  q"
      ]
     },
     "metadata": {},
     "output_type": "display_data"
    }
   ],
   "source": [
    "# --- FULL CODE ---\n",
    "BRAILLE_DICT = {\n",
    "    'a': '\\u2801', 'b': '\\u2803', 'c': '\\u2809', 'd': '\\u2819',\n",
    "    'e': '\\u2811', 'f': '\\u280B', 'g': '\\u281B', 'h': '\\u2813',\n",
    "    'i': '\\u280A', 'j': '\\u281A', 'k': '\\u2805', 'l': '\\u2807',\n",
    "    'm': '\\u280D', 'n': '\\u281D', 'o': '\\u2815', 'p': '\\u280F',\n",
    "    'q': '\\u281F', 'r': '\\u2817', 's': '\\u280E', 't': '\\u281E',\n",
    "    'u': '\\u2825', 'v': '\\u2827', 'w': '\\u283A', 'x': '\\u282D',\n",
    "    'y': '\\u283D', 'z': '\\u2835', ' ': ' ',\n",
    "}\n",
    "\n",
    "TEXT_DICT = {v: k for k, v in BRAILLE_DICT.items()}\n",
    "\n",
    "def text_to_braille(text):\n",
    "    text = text.lower()\n",
    "    braille_text = ''\n",
    "    for char in text:\n",
    "        braille_text += BRAILLE_DICT.get(char, '?')\n",
    "    return braille_text\n",
    "\n",
    "def braille_to_text(braille_str):\n",
    "    text = ''\n",
    "    for symbol in braille_str:\n",
    "        text += TEXT_DICT.get(symbol, '?')\n",
    "    return text\n",
    "\n",
    "# # --- TESTING ---\n",
    "# sample_text = \"naveen vayilapalli\"\n",
    "# braille = text_to_braille(sample_text)\n",
    "# decoded = braille_to_text(braille)\n",
    "\n",
    "# print(\"Original Text:\", sample_text)\n",
    "# print(\"To Braille:\", braille)\n",
    "# print(\"Back to Text:\", decoded)\n",
    "\n",
    "while True:\n",
    "    choice = input(\"b for braille, t for text, q to quit: \")\n",
    "    if choice == 'b':\n",
    "        text = input(\"Enter text: \")\n",
    "        print(\"Braille:\", text_to_braille(text))\n",
    "    elif choice == 't':\n",
    "        braille = input(\"Enter braille: \")\n",
    "        print(\"Text:\", braille_to_text(braille))\n",
    "    elif choice == 'q':\n",
    "        break\n",
    "    else:\n",
    "        print(\"Invalid choice. Please enter 'b', 't', or 'q'.\")\n",
    "\n"
   ]
  }
 ],
 "metadata": {
  "application/vnd.databricks.v1+notebook": {
   "computePreferences": null,
   "dashboards": [],
   "environmentMetadata": {
    "base_environment": "",
    "environment_version": "4"
   },
   "inputWidgetPreferences": null,
   "language": "python",
   "notebookMetadata": {
    "pythonIndentUnit": 4
   },
   "notebookName": "braille_code_conversion",
   "widgets": {}
  },
  "language_info": {
   "name": "python"
  }
 },
 "nbformat": 4,
 "nbformat_minor": 0
}